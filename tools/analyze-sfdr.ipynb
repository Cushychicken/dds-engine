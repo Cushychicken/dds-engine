{
 "cells": [
  {
   "cell_type": "code",
   "execution_count": 1,
   "id": "de0b5952",
   "metadata": {},
   "outputs": [],
   "source": [
    "import pandas as pd\n",
    "import numpy as np\n",
    "import scipy as sp\n",
    "import math\n",
    "\n",
    "%matplotlib inline"
   ]
  },
  {
   "cell_type": "code",
   "execution_count": 47,
   "id": "4485dd26",
   "metadata": {
    "scrolled": true
   },
   "outputs": [],
   "source": [
    "# Generate a rom table of a sine wave with signed integers \n",
    "def generate_sin_rom(bits, rom_depth):\n",
    "    # Subtract 1 from bit depth for signed data (msb is sign bit)\n",
    "    amplitude = 2**(bit_depth-1)\n",
    "    sin_rom = [int(amplitude * math.sin(a/rom_depth * 2 * math.pi)) for a in range(rom_size)]\n",
    "    return(sin_rom)\n",
    "\n",
    "bit_depth = 12\n",
    "rom_size = 4096\n",
    "sin_rom = generate_sin_rom(bit_depth, rom_size)\n",
    "df = pd.DataFrame(sin_rom)"
   ]
  },
  {
   "cell_type": "code",
   "execution_count": 55,
   "id": "8a21c15b",
   "metadata": {},
   "outputs": [
    {
     "name": "stdout",
     "output_type": "stream",
     "text": [
      "56031 Hz signal: 0x0024b871\n"
     ]
    }
   ],
   "source": [
    "# Gets the frequency tuning word for a given frequency input \n",
    "# Default: \n",
    "#    - Sample rate/input clock = 100MHz\n",
    "#    - Phase Accumulator depth = 32 bits\n",
    "def freq_to_tuning(freq_out, sample_rate=100000000, acc_depth=32):\n",
    "    return int((freq_out * (2**acc_depth))/sample_rate)\n",
    "\n",
    "freq = 56031\n",
    "tune = freq_to_tuning(freq)\n",
    "\n",
    "print(f\"{freq} Hz signal: {tune:#010x}\")"
   ]
  },
  {
   "cell_type": "code",
   "execution_count": null,
   "id": "844fe498",
   "metadata": {},
   "outputs": [],
   "source": [
    "# Generates a phase output \n",
    "tuning = 0x0000_1000\n",
    "phase = [ 0 ]\n",
    "while len(phase) < (2**20):\n",
    "    phase.append(phase[-1] + tuning)\n",
    "\n",
    "df_phase = pd.DataFrame(zip(phase, [tuning] * len(phase)), columns=['phase', 'tuning'])\n",
    "df_phase['rom_addr'] = np.bitwise_and(df_phase['phase'], 0xFFC00000)\n",
    "df_phase['rom_addr'] = np.right_shift(df_phase['rom_addr'], 22)"
   ]
  },
  {
   "cell_type": "code",
   "execution_count": 45,
   "id": "b5887b97",
   "metadata": {},
   "outputs": [
    {
     "data": {
      "text/plain": [
       "<AxesSubplot:>"
      ]
     },
     "execution_count": 45,
     "metadata": {},
     "output_type": "execute_result"
    },
    {
     "data": {
      "image/png": "[encoded data removed]",
      "text/plain": [
       "<Figure size 432x288 with 1 Axes>"
      ]
     },
     "metadata": {
      "needs_background": "light"
     },
     "output_type": "display_data"
    }
   ],
   "source": [
    "# Lambda function serves as phase-to-amplitude converter\n",
    "df_phase['dds_out'] = df_phase['rom_addr'].apply(lambda x: sin_rom[x])\n",
    "df_phase['dds_out'].plot()\n",
    "\n",
    "# Read this for how to do this in numpy - probably easier than figgering out pandas plotting\n",
    "# https://www.pythonforengineers.com/audio-and-digital-signal-processingdsp-in-python/"
   ]
  },
  {
   "cell_type": "code",
   "execution_count": 3,
   "id": "c465e679",
   "metadata": {
    "scrolled": true
   },
   "outputs": [],
   "source": [
    "data = [] \n",
    "with open('../output_results.txt') as f:\n",
    "    for line in f:\n",
    "        data.append(line.strip().split(','))\n",
    "        \n",
    "# Converts testbench data to ints\n",
    "data = [data[0]] + [[int(j) for j in i] for i in data[1:]]"
   ]
  },
  {
   "cell_type": "code",
   "execution_count": 4,
   "id": "f9b0f520",
   "metadata": {},
   "outputs": [
    {
     "data": {
      "text/html": [
       "<div>\n",
       "<style scoped>\n",
       "    .dataframe tbody tr th:only-of-type {\n",
       "        vertical-align: middle;\n",
       "    }\n",
       "\n",
       "    .dataframe tbody tr th {\n",
       "        vertical-align: top;\n",
       "    }\n",
       "\n",
       "    .dataframe thead th {\n",
       "        text-align: right;\n",
       "    }\n",
       "</style>\n",
       "<table border=\"1\" class=\"dataframe\">\n",
       "  <thead>\n",
       "    <tr style=\"text-align: right;\">\n",
       "      <th></th>\n",
       "      <th>addr_tb</th>\n",
       "      <th>data_tb</th>\n",
       "    </tr>\n",
       "  </thead>\n",
       "  <tbody>\n",
       "    <tr>\n",
       "      <th>0</th>\n",
       "      <td>0</td>\n",
       "      <td>0</td>\n",
       "    </tr>\n",
       "    <tr>\n",
       "      <th>1</th>\n",
       "      <td>1</td>\n",
       "      <td>0</td>\n",
       "    </tr>\n",
       "    <tr>\n",
       "      <th>2</th>\n",
       "      <td>2</td>\n",
       "      <td>0</td>\n",
       "    </tr>\n",
       "    <tr>\n",
       "      <th>3</th>\n",
       "      <td>3</td>\n",
       "      <td>0</td>\n",
       "    </tr>\n",
       "    <tr>\n",
       "      <th>4</th>\n",
       "      <td>4</td>\n",
       "      <td>3</td>\n",
       "    </tr>\n",
       "    <tr>\n",
       "      <th>...</th>\n",
       "      <td>...</td>\n",
       "      <td>...</td>\n",
       "    </tr>\n",
       "    <tr>\n",
       "      <th>499995</th>\n",
       "      <td>8475</td>\n",
       "      <td>-219</td>\n",
       "    </tr>\n",
       "    <tr>\n",
       "      <th>499996</th>\n",
       "      <td>8476</td>\n",
       "      <td>-222</td>\n",
       "    </tr>\n",
       "    <tr>\n",
       "      <th>499997</th>\n",
       "      <td>8477</td>\n",
       "      <td>-222</td>\n",
       "    </tr>\n",
       "    <tr>\n",
       "      <th>499998</th>\n",
       "      <td>8478</td>\n",
       "      <td>-222</td>\n",
       "    </tr>\n",
       "    <tr>\n",
       "      <th>499999</th>\n",
       "      <td>8479</td>\n",
       "      <td>-222</td>\n",
       "    </tr>\n",
       "  </tbody>\n",
       "</table>\n",
       "<p>500000 rows × 2 columns</p>\n",
       "</div>"
      ],
      "text/plain": [
       "        addr_tb  data_tb\n",
       "0             0        0\n",
       "1             1        0\n",
       "2             2        0\n",
       "3             3        0\n",
       "4             4        3\n",
       "...         ...      ...\n",
       "499995     8475     -219\n",
       "499996     8476     -222\n",
       "499997     8477     -222\n",
       "499998     8478     -222\n",
       "499999     8479     -222\n",
       "\n",
       "[500000 rows x 2 columns]"
      ]
     },
     "execution_count": 4,
     "metadata": {},
     "output_type": "execute_result"
    }
   ],
   "source": [
    "df = pd.DataFrame(data[1:], columns=data[0])\n",
    "df"
   ]
  },
  {
   "cell_type": "code",
   "execution_count": 8,
   "id": "77fa7161",
   "metadata": {},
   "outputs": [
    {
     "data": {
      "text/plain": [
       "<AxesSubplot:>"
      ]
     },
     "execution_count": 8,
     "metadata": {},
     "output_type": "execute_result"
    },
    {
     "data": {
      "image/png": "[encoded data removed]",
      "text/plain": [
       "<Figure size 432x288 with 1 Axes>"
      ]
     },
     "metadata": {
      "needs_background": "light"
     },
     "output_type": "display_data"
    }
   ],
   "source": [
    "import matplotlib.pyplot as plt\n",
    "df['data_tb'][:(4*4096)].plot()"
   ]
  },
  {
   "cell_type": "code",
   "execution_count": 30,
   "id": "8d0fb547",
   "metadata": {
    "scrolled": true
   },
   "outputs": [
    {
     "data": {
      "text/plain": [
       "array([10668416.           +0.j        , -3562884.2774399 -1366.34907475j,\n",
       "        -711589.69589066 -545.7825682j , ...,\n",
       "        -305337.60550223 +351.28667048j,  -711589.69589066 +545.7825682j ,\n",
       "       -3562884.2774399 +1366.34907475j])"
      ]
     },
     "execution_count": 30,
     "metadata": {},
     "output_type": "execute_result"
    }
   ],
   "source": [
    "import matplotlib.pyplot as plt\n",
    "sp = np.fft.fft(df['data_tb'], n=8192)\n",
    "sp"
   ]
  },
  {
   "cell_type": "code",
   "execution_count": 25,
   "id": "53f8d334",
   "metadata": {},
   "outputs": [
    {
     "data": {
      "text/plain": [
       "1024"
      ]
     },
     "execution_count": 25,
     "metadata": {},
     "output_type": "execute_result"
    }
   ],
   "source": [
    "len(sp)"
   ]
  },
  {
   "cell_type": "code",
   "execution_count": 34,
   "id": "e2a72f53",
   "metadata": {},
   "outputs": [
    {
     "data": {
      "image/png": "[encoded data removed]",
      "text/plain": [
       "<Figure size 432x288 with 1 Axes>"
      ]
     },
     "metadata": {
      "needs_background": "light"
     },
     "output_type": "display_data"
    }
   ],
   "source": [
    "freq = np.fft.fftfreq(len(sp))\n",
    "plt.plot(freq, np.abs(sp))\n",
    "plt.show()"
   ]
  },
  {
   "cell_type": "code",
   "execution_count": 46,
   "id": "ad39de98",
   "metadata": {},
   "outputs": [
    {
     "name": "stderr",
     "output_type": "stream",
     "text": [
      "/Users/nreilly/opt/anaconda3/lib/python3.8/site-packages/numpy/core/_asarray.py:102: ComplexWarning: Casting complex values to real discards the imaginary part\n",
      "  return array(a, dtype, copy=False, order=order)\n"
     ]
    },
    {
     "data": {
      "text/plain": [
       "<AxesSubplot:>"
      ]
     },
     "execution_count": 46,
     "metadata": {},
     "output_type": "execute_result"
    },
    {
     "data": {
      "image/png": "[encoded data removed]",
      "text/plain": [
       "<Figure size 432x288 with 1 Axes>"
      ]
     },
     "metadata": {
      "needs_background": "light"
     },
     "output_type": "display_data"
    }
   ],
   "source": [
    "fft_data = np.fft.fft(df['data_tb'])\n",
    "\n",
    "pd.DataFrame(fft_data).plot()"
   ]
  },
  {
   "cell_type": "code",
   "execution_count": 20,
   "id": "2353261a",
   "metadata": {},
   "outputs": [
    {
     "name": "stdout",
     "output_type": "stream",
     "text": [
      "1.2.4\n"
     ]
    }
   ],
   "source": [
    "print(pd.__version__)"
   ]
  },
  {
   "cell_type": "code",
   "execution_count": null,
   "id": "3fac4b38",
   "metadata": {},
   "outputs": [],
   "source": []
  }
 ],
 "metadata": {
  "kernelspec": {
   "display_name": "Python 3",
   "language": "python",
   "name": "python3"
  },
  "language_info": {
   "codemirror_mode": {
    "name": "ipython",
    "version": 3
   },
   "file_extension": ".py",
   "mimetype": "text/x-python",
   "name": "python",
   "nbconvert_exporter": "python",
   "pygments_lexer": "ipython3",
   "version": "3.8.8"
  }
 },
 "nbformat": 4,
 "nbformat_minor": 5
}
